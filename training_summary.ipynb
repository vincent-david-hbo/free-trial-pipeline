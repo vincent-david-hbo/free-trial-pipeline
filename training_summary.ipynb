{
 "cells": [
  {
   "cell_type": "code",
   "execution_count": null,
   "metadata": {},
   "outputs": [],
   "source": [
    "import boto3\n",
    "import pandas as pd\n",
    "\n",
    "sm_client = boto3.client('sagemaker')"
   ]
  },
  {
   "cell_type": "code",
   "execution_count": null,
   "metadata": {},
   "outputs": [],
   "source": [
    "# collect traning jobs\n",
    "search_params={\n",
    "   \"Resource\": \"TrainingJob\",\n",
    "   \"SearchExpression\": { \n",
    "      \"Filters\": [{ \n",
    "            \"Name\": \"Tags.model\",\n",
    "            \"Operator\": \"Equals\",\n",
    "            \"Value\": \"free_trial_xgboost\"\n",
    "         }]}\n",
    "}\n",
    "\n",
    "results = sm_client.search(**search_params)['Results']"
   ]
  },
  {
   "cell_type": "code",
   "execution_count": null,
   "metadata": {},
   "outputs": [],
   "source": [
    "training_rows = []\n",
    "\n",
    "# collect training job detail \n",
    "for job in results:\n",
    "    response = job['TrainingJob']\n",
    "    if response['TrainingJobStatus'] == 'Completed':\n",
    "        TrainingJobName = response['TrainingJobName']\n",
    "        TrainingJobArn = response['TrainingJobArn']\n",
    "        S3ModelArtifacts = response['ModelArtifacts']['S3ModelArtifacts']\n",
    "        HyperParameters = response['HyperParameters']\n",
    "        TrainingImage = response['AlgorithmSpecification']['TrainingImage']\n",
    "        RoleArn = response['RoleArn']\n",
    "        TrainData = [c['DataSource']['S3DataSource']['S3Uri'] for c in response['InputDataConfig'] if c['ChannelName'] == 'train'][0]\n",
    "        TestData = [c['DataSource']['S3DataSource']['S3Uri'] for c in response['InputDataConfig'] if c['ChannelName'] == 'validation'][0]\n",
    "        TrainAUC = [m['Value'] for m in response['FinalMetricDataList'] if m['MetricName'] == 'train:auc'][0]\n",
    "        TestAUC = [m['Value'] for m in response['FinalMetricDataList'] if m['MetricName'] == 'validation:auc'][0]\n",
    "        InstanceType = response['ResourceConfig']['InstanceType']\n",
    "        InstanceCount = response['ResourceConfig']['InstanceCount']\n",
    "        VolumeSizeInGB = response['ResourceConfig']['VolumeSizeInGB']\n",
    "        TrainingTimeInSeconds = response['TrainingTimeInSeconds']\n",
    "        BillableTimeInSeconds = response['BillableTimeInSeconds']\n",
    "        TrainingStartTime = response['TrainingStartTime'].strftime(\"%Y-%m-%d %H:%M:%S\")\n",
    "\n",
    "        row = [TrainingJobName, TrainingJobArn, S3ModelArtifacts, HyperParameters, TrainingImage, RoleArn, TrainData, TestData, TrainAUC, TestAUC, InstanceType, InstanceCount, VolumeSizeInGB, TrainingTimeInSeconds, BillableTimeInSeconds, TrainingStartTime]\n",
    "        \n",
    "        training_rows.append(row)\n",
    "\n",
    "    \n",
    "df = pd.DataFrame(training_rows, columns=['TrainingJobName', 'TrainingJobArn', 'S3ModelArtifact', 'HyperParameters', 'TrainingImage', 'RoleArn', 'TrainData', 'TestData', 'TrainAUC', 'TestAUC', 'InstanceType', 'InstanceCount', 'VolumeSizeInGB', 'TrainingTimeInSeconds', 'BillableTimeInSeconds', 'TrainingStartTime'])\n",
    "df = df.sort_values(by='TestAUC',ascending=True)"
   ]
  },
  {
   "cell_type": "code",
   "execution_count": null,
   "metadata": {},
   "outputs": [],
   "source": [
    "df.head()"
   ]
  },
  {
   "cell_type": "code",
   "execution_count": null,
   "metadata": {},
   "outputs": [],
   "source": []
  }
 ],
 "metadata": {
  "kernelspec": {
   "display_name": "conda_python3",
   "language": "python",
   "name": "conda_python3"
  },
  "language_info": {
   "codemirror_mode": {
    "name": "ipython",
    "version": 3
   },
   "file_extension": ".py",
   "mimetype": "text/x-python",
   "name": "python",
   "nbconvert_exporter": "python",
   "pygments_lexer": "ipython3",
   "version": "3.6.10"
  }
 },
 "nbformat": 4,
 "nbformat_minor": 4
}
