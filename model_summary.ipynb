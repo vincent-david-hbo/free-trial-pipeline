{
 "cells": [
  {
   "cell_type": "code",
   "execution_count": null,
   "metadata": {},
   "outputs": [],
   "source": [
    "import boto3\n",
    "import pandas as pd\n",
    "resource_client = boto3.client('resourcegroupstaggingapi')\n",
    "sm_client = boto3.client('sagemaker')"
   ]
  },
  {
   "cell_type": "code",
   "execution_count": null,
   "metadata": {},
   "outputs": [],
   "source": [
    "response = resource_client.get_resources(\n",
    "    TagFilters=[\n",
    "        {\n",
    "            'Key': 'model',\n",
    "            'Values': [\n",
    "                'free_trial_xgboost', 'free_trial_sklearn_featurizer'\n",
    "            ]\n",
    "        },\n",
    "    ],\n",
    "    ResourcesPerPage=100,\n",
    "    ResourceTypeFilters=['sagemaker:model']    \n",
    "    )"
   ]
  },
  {
   "cell_type": "code",
   "execution_count": null,
   "metadata": {},
   "outputs": [],
   "source": [
    "training_rows = []\n",
    "\n",
    "for r in response['ResourceTagMappingList']:\n",
    "    model_name = r['ResourceARN'].split('/')[1]\n",
    "    response = sm_client.describe_model(\n",
    "        ModelName=model_name\n",
    "    )\n",
    "    \n",
    "    model_name = response['ModelName']\n",
    "    image = response['PrimaryContainer']['Image']\n",
    "    model_data_url = response['PrimaryContainer']['ModelDataUrl']\n",
    "    role = response['ExecutionRoleArn']\n",
    "    creation_time = response['CreationTime'].strftime(\"%Y-%m-%d %H:%M:%S\")\n",
    "    arn = response['ModelArn']\n",
    "    \n",
    "    row = [model_name, creation_time, image, model_data_url, role, arn]\n",
    "    training_rows.append(row)\n",
    "\n",
    "df = pd.DataFrame(training_rows, columns=['model_name', 'creation_time', 'image', 'model_data_url', 'role', 'arn'])"
   ]
  },
  {
   "cell_type": "code",
   "execution_count": null,
   "metadata": {},
   "outputs": [],
   "source": [
    "df"
   ]
  },
  {
   "cell_type": "code",
   "execution_count": null,
   "metadata": {},
   "outputs": [],
   "source": []
  }
 ],
 "metadata": {
  "kernelspec": {
   "display_name": "conda_python3",
   "language": "python",
   "name": "conda_python3"
  },
  "language_info": {
   "codemirror_mode": {
    "name": "ipython",
    "version": 3
   },
   "file_extension": ".py",
   "mimetype": "text/x-python",
   "name": "python",
   "nbconvert_exporter": "python",
   "pygments_lexer": "ipython3",
   "version": "3.6.10"
  }
 },
 "nbformat": 4,
 "nbformat_minor": 4
}
